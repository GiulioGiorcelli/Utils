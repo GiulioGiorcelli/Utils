{
 "cells": [
  {
   "cell_type": "code",
   "execution_count": 1,
   "metadata": {
    "collapsed": false,
    "deletable": true,
    "editable": true
   },
   "outputs": [
    {
     "name": "stderr",
     "output_type": "stream",
     "text": [
      "C:\\Users\\ggiorcelli\\AppData\\Local\\Continuum\\Anaconda3\\lib\\site-packages\\fuzzywuzzy\\fuzz.py:35: UserWarning: Using slow pure-python SequenceMatcher. Install python-Levenshtein to remove this warning\n",
      "  warnings.warn('Using slow pure-python SequenceMatcher. Install python-Levenshtein to remove this warning')\n"
     ]
    }
   ],
   "source": [
    "#Lavenshtein distance implementation for email attribution\n",
    "from fuzzywuzzy import fuzz\n",
    "from fuzzywuzzy import process\n",
    "import pandas as pd"
   ]
  },
  {
   "cell_type": "code",
   "execution_count": 15,
   "metadata": {
    "collapsed": false,
    "deletable": true,
    "editable": true
   },
   "outputs": [
    {
     "data": {
      "text/plain": [
       "87"
      ]
     },
     "execution_count": 15,
     "metadata": {},
     "output_type": "execute_result"
    }
   ],
   "source": [
    "fuzz.ratio(\"giulio.giorecelli@gmail.com\", \"giuliogiorcell0123@gmail.com\")"
   ]
  },
  {
   "cell_type": "code",
   "execution_count": 14,
   "metadata": {
    "collapsed": false,
    "deletable": true,
    "editable": true,
    "scrolled": true
   },
   "outputs": [
    {
     "data": {
      "text/plain": [
       "85"
      ]
     },
     "execution_count": 14,
     "metadata": {},
     "output_type": "execute_result"
    }
   ],
   "source": [
    "fuzz.partial_ratio(\"giulio.giorecelli@gmail.com\", \"giuliogiorcell0123@gmail.com\")"
   ]
  },
  {
   "cell_type": "code",
   "execution_count": 12,
   "metadata": {
    "collapsed": false,
    "deletable": true,
    "editable": true
   },
   "outputs": [
    {
     "data": {
      "text/plain": [
       "69"
      ]
     },
     "execution_count": 12,
     "metadata": {},
     "output_type": "execute_result"
    }
   ],
   "source": [
    "fuzz.token_sort_ratio(\"giulio.giorecelli@gmail.com\", \"giulio.giorcelli123@gmail.com\")"
   ]
  },
  {
   "cell_type": "code",
   "execution_count": 160,
   "metadata": {
    "collapsed": false,
    "deletable": true,
    "editable": true
   },
   "outputs": [],
   "source": [
    "email1 = (\"giulio.giorcelli@gmail.com\",\"giulio.giorcelli123@gmail.com\",\"ggiorcelli@edmunds.com\",\n",
    "          \"giuliogiorcelli@gmail.com\",\"ggiorcelli@gmail.com\",\"giuliogiorcelli@aol.com\",\"giuliogiorcell0123@gmail.com\")\n",
    "email2 = (\"giulio.giorcelli@gmail.com\")"
   ]
  },
  {
   "cell_type": "code",
   "execution_count": 155,
   "metadata": {
    "collapsed": false,
    "deletable": true,
    "editable": true,
    "scrolled": true
   },
   "outputs": [
    {
     "name": "stdout",
     "output_type": "stream",
     "text": [
      "('giulio.giorcelli@gmail.com', 'giulio.giorcelli123@gmail.com', 'ggiorcelli@edmunds.com', 'giuliogiorcelli@gmail.com', 'ggiorcelli@gmail.com', 'giuliogiorcelli@aol.com', 'giuliogiorcell0123@gmail.com')\n"
     ]
    }
   ],
   "source": [
    "print(email1)"
   ]
  },
  {
   "cell_type": "code",
   "execution_count": 161,
   "metadata": {
    "collapsed": false,
    "deletable": true,
    "editable": true
   },
   "outputs": [
    {
     "name": "stdout",
     "output_type": "stream",
     "text": [
      "giulio.giorcelli@gmail.com\n"
     ]
    }
   ],
   "source": [
    "print(email2)"
   ]
  },
  {
   "cell_type": "code",
   "execution_count": 162,
   "metadata": {
    "collapsed": false,
    "deletable": true,
    "editable": true
   },
   "outputs": [
    {
     "data": {
      "text/plain": [
       "[100, 95, 67, 98, 87, 90, 89]"
      ]
     },
     "execution_count": 162,
     "metadata": {},
     "output_type": "execute_result"
    }
   ],
   "source": [
    "def comp(benchmark,emails):\n",
    "    results = []\n",
    "    for email in emails:\n",
    "        ratio = fuzz.ratio(email,benchmark)\n",
    "        results.append(ratio)\n",
    "    return results    \n",
    "    \n",
    "        \n",
    "comp(email2,email1)  "
   ]
  },
  {
   "cell_type": "code",
   "execution_count": 166,
   "metadata": {
    "collapsed": false,
    "deletable": true,
    "editable": true
   },
   "outputs": [
    {
     "data": {
      "text/html": [
       "<div>\n",
       "<table border=\"1\" class=\"dataframe\">\n",
       "  <thead>\n",
       "    <tr style=\"text-align: right;\">\n",
       "      <th></th>\n",
       "      <th>benchmark</th>\n",
       "      <th>lead_email</th>\n",
       "      <th>probability</th>\n",
       "    </tr>\n",
       "  </thead>\n",
       "  <tbody>\n",
       "    <tr>\n",
       "      <th>0</th>\n",
       "      <td>giulio.giorcelli@gmail.com</td>\n",
       "      <td>giulio.giorcelli@gmail.com</td>\n",
       "      <td>100</td>\n",
       "    </tr>\n",
       "    <tr>\n",
       "      <th>1</th>\n",
       "      <td>giulio.giorcelli@gmail.com</td>\n",
       "      <td>giulio.giorcelli123@gmail.com</td>\n",
       "      <td>95</td>\n",
       "    </tr>\n",
       "    <tr>\n",
       "      <th>2</th>\n",
       "      <td>giulio.giorcelli@gmail.com</td>\n",
       "      <td>ggiorcelli@edmunds.com</td>\n",
       "      <td>67</td>\n",
       "    </tr>\n",
       "    <tr>\n",
       "      <th>3</th>\n",
       "      <td>giulio.giorcelli@gmail.com</td>\n",
       "      <td>giuliogiorcelli@gmail.com</td>\n",
       "      <td>98</td>\n",
       "    </tr>\n",
       "    <tr>\n",
       "      <th>4</th>\n",
       "      <td>giulio.giorcelli@gmail.com</td>\n",
       "      <td>ggiorcelli@gmail.com</td>\n",
       "      <td>87</td>\n",
       "    </tr>\n",
       "    <tr>\n",
       "      <th>5</th>\n",
       "      <td>giulio.giorcelli@gmail.com</td>\n",
       "      <td>giuliogiorcelli@aol.com</td>\n",
       "      <td>90</td>\n",
       "    </tr>\n",
       "    <tr>\n",
       "      <th>6</th>\n",
       "      <td>giulio.giorcelli@gmail.com</td>\n",
       "      <td>giuliogiorcell0123@gmail.com</td>\n",
       "      <td>89</td>\n",
       "    </tr>\n",
       "  </tbody>\n",
       "</table>\n",
       "</div>"
      ],
      "text/plain": [
       "                    benchmark                     lead_email  probability\n",
       "0  giulio.giorcelli@gmail.com     giulio.giorcelli@gmail.com          100\n",
       "1  giulio.giorcelli@gmail.com  giulio.giorcelli123@gmail.com           95\n",
       "2  giulio.giorcelli@gmail.com         ggiorcelli@edmunds.com           67\n",
       "3  giulio.giorcelli@gmail.com      giuliogiorcelli@gmail.com           98\n",
       "4  giulio.giorcelli@gmail.com           ggiorcelli@gmail.com           87\n",
       "5  giulio.giorcelli@gmail.com        giuliogiorcelli@aol.com           90\n",
       "6  giulio.giorcelli@gmail.com   giuliogiorcell0123@gmail.com           89"
      ]
     },
     "execution_count": 166,
     "metadata": {},
     "output_type": "execute_result"
    }
   ],
   "source": [
    "#data = pd.DataFrame.from_records([ratio, benchmark, ratio], column = lables\n",
    "\n",
    "results = { 'benchmark': email2,\n",
    "         'lead_email' : email1,\n",
    "         'probability' : comp(email2,email1)\n",
    "          }\n",
    "\n",
    "df1 = pd.DataFrame.from_dict(results)[['benchmark','lead_email', 'probability']]\n",
    "df1"
   ]
  },
  {
   "cell_type": "code",
   "execution_count": 173,
   "metadata": {
    "collapsed": false,
    "deletable": true,
    "editable": true
   },
   "outputs": [
    {
     "data": {
      "text/plain": [
       "85"
      ]
     },
     "execution_count": 173,
     "metadata": {},
     "output_type": "execute_result"
    }
   ],
   "source": [
    "fuzz.ratio('giulio.giorcelli@gmail.com','giulio.giorcelli@yahoo.com')"
   ]
  },
  {
   "cell_type": "code",
   "execution_count": null,
   "metadata": {
    "collapsed": true,
    "deletable": true,
    "editable": true
   },
   "outputs": [],
   "source": []
  }
 ],
 "metadata": {
  "kernelspec": {
   "display_name": "Python 3",
   "language": "python",
   "name": "python3"
  },
  "language_info": {
   "codemirror_mode": {
    "name": "ipython",
    "version": 3
   },
   "file_extension": ".py",
   "mimetype": "text/x-python",
   "name": "python",
   "nbconvert_exporter": "python",
   "pygments_lexer": "ipython3",
   "version": "3.6.0"
  }
 },
 "nbformat": 4,
 "nbformat_minor": 2
}
